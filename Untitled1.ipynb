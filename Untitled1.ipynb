{
  "nbformat": 4,
  "nbformat_minor": 0,
  "metadata": {
    "colab": {
      "name": "Untitled1.ipynb",
      "version": "0.3.2",
      "provenance": [],
      "include_colab_link": true
    },
    "kernelspec": {
      "name": "python2",
      "display_name": "Python 2"
    },
    "accelerator": "GPU"
  },
  "cells": [
    {
      "cell_type": "markdown",
      "metadata": {
        "id": "view-in-github",
        "colab_type": "text"
      },
      "source": [
        "<a href=\"https://colab.research.google.com/github/cupofphotones/pytorch/blob/master/Untitled1.ipynb\" target=\"_parent\"><img src=\"https://colab.research.google.com/assets/colab-badge.svg\" alt=\"Open In Colab\"/></a>"
      ]
    },
    {
      "cell_type": "code",
      "metadata": {
        "id": "AWv6TuvEDSK5",
        "colab_type": "code",
        "colab": {}
      },
      "source": [
        "import torch"
      ],
      "execution_count": 0,
      "outputs": []
    },
    {
      "cell_type": "code",
      "metadata": {
        "id": "u9-uXFXDCtzG",
        "colab_type": "code",
        "colab": {
          "base_uri": "https://localhost:8080/",
          "height": 191
        },
        "outputId": "a7c32681-994c-4167-daa3-2e6dd41a57ec"
      },
      "source": [
        "x = torch.rand(5,3)\n",
        "print(x)\n",
        "\n",
        "y = x\n",
        "print(y)"
      ],
      "execution_count": 2,
      "outputs": [
        {
          "output_type": "stream",
          "text": [
            "tensor([[0.3840, 0.2414, 0.6890],\n",
            "        [0.3650, 0.8148, 0.8152],\n",
            "        [0.7184, 0.6893, 0.7171],\n",
            "        [0.0704, 0.1137, 0.9370],\n",
            "        [0.1343, 0.8362, 0.0202]])\n",
            "tensor([[0.3840, 0.2414, 0.6890],\n",
            "        [0.3650, 0.8148, 0.8152],\n",
            "        [0.7184, 0.6893, 0.7171],\n",
            "        [0.0704, 0.1137, 0.9370],\n",
            "        [0.1343, 0.8362, 0.0202]])\n"
          ],
          "name": "stdout"
        }
      ]
    },
    {
      "cell_type": "code",
      "metadata": {
        "id": "PjOspkOuEr1e",
        "colab_type": "code",
        "colab": {
          "base_uri": "https://localhost:8080/",
          "height": 104
        },
        "outputId": "2b20a68b-c56f-46f3-e5dd-de5f666db710"
      },
      "source": [
        "print(x+y)"
      ],
      "execution_count": 3,
      "outputs": [
        {
          "output_type": "stream",
          "text": [
            "tensor([[0.7680, 0.4829, 1.3779],\n",
            "        [0.7299, 1.6297, 1.6304],\n",
            "        [1.4368, 1.3785, 1.4343],\n",
            "        [0.1407, 0.2274, 1.8740],\n",
            "        [0.2686, 1.6724, 0.0404]])\n"
          ],
          "name": "stdout"
        }
      ]
    },
    {
      "cell_type": "code",
      "metadata": {
        "id": "IJy0kRWVFXQq",
        "colab_type": "code",
        "colab": {
          "base_uri": "https://localhost:8080/",
          "height": 104
        },
        "outputId": "11a0a619-cfd3-4037-f9ec-bd64add899a1"
      },
      "source": [
        "print(torch.add(x,y))"
      ],
      "execution_count": 4,
      "outputs": [
        {
          "output_type": "stream",
          "text": [
            "tensor([[0.7680, 0.4829, 1.3779],\n",
            "        [0.7299, 1.6297, 1.6304],\n",
            "        [1.4368, 1.3785, 1.4343],\n",
            "        [0.1407, 0.2274, 1.8740],\n",
            "        [0.2686, 1.6724, 0.0404]])\n"
          ],
          "name": "stdout"
        }
      ]
    },
    {
      "cell_type": "code",
      "metadata": {
        "id": "AS-DntueFhxe",
        "colab_type": "code",
        "colab": {}
      },
      "source": [
        ""
      ],
      "execution_count": 0,
      "outputs": []
    }
  ]
}