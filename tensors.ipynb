{
  "nbformat": 4,
  "nbformat_minor": 0,
  "metadata": {
    "colab": {
      "name": "Untitled1.ipynb",
      "version": "0.3.2",
      "provenance": [],
      "include_colab_link": true
    },
    "kernelspec": {
      "name": "python2",
      "display_name": "Python 2"
    },
    "accelerator": "GPU"
  },
  "cells": [
    {
      "cell_type": "markdown",
      "metadata": {
        "id": "view-in-github",
        "colab_type": "text"
      },
      "source": [
        "<a href=\"https://colab.research.google.com/github/cupofphotones/pytorch/blob/master/tensors.ipynb\" target=\"_parent\"><img src=\"https://colab.research.google.com/assets/colab-badge.svg\" alt=\"Open In Colab\"/></a>"
      ]
    },
    {
      "cell_type": "code",
      "metadata": {
        "id": "AWv6TuvEDSK5",
        "colab_type": "code",
        "colab": {}
      },
      "source": [
        "import torch\n",
        "import numpy as np"
      ],
      "execution_count": 0,
      "outputs": []
    },
    {
      "cell_type": "code",
      "metadata": {
        "id": "u9-uXFXDCtzG",
        "colab_type": "code",
        "outputId": "b7dff1c6-638b-402f-fe46-e4fafd49a8ab",
        "colab": {
          "base_uri": "https://localhost:8080/",
          "height": 191
        }
      },
      "source": [
        "x = torch.rand(5,3)\n",
        "print(x)\n",
        "\n",
        "y = x\n",
        "print(y)"
      ],
      "execution_count": 4,
      "outputs": [
        {
          "output_type": "stream",
          "text": [
            "tensor([[0.1016, 0.5445, 0.8837],\n",
            "        [0.0227, 0.9891, 0.7365],\n",
            "        [0.2921, 0.0845, 0.0626],\n",
            "        [0.2022, 0.5263, 0.2230],\n",
            "        [0.7080, 0.6925, 0.0185]])\n",
            "tensor([[0.1016, 0.5445, 0.8837],\n",
            "        [0.0227, 0.9891, 0.7365],\n",
            "        [0.2921, 0.0845, 0.0626],\n",
            "        [0.2022, 0.5263, 0.2230],\n",
            "        [0.7080, 0.6925, 0.0185]])\n"
          ],
          "name": "stdout"
        }
      ]
    },
    {
      "cell_type": "code",
      "metadata": {
        "id": "PjOspkOuEr1e",
        "colab_type": "code",
        "outputId": "cf9b541f-ce86-4f11-d170-55f01032515e",
        "colab": {
          "base_uri": "https://localhost:8080/",
          "height": 104
        }
      },
      "source": [
        "print(x+y)"
      ],
      "execution_count": 6,
      "outputs": [
        {
          "output_type": "stream",
          "text": [
            "tensor([[0.2033, 1.0890, 1.7674],\n",
            "        [0.0454, 1.9782, 1.4729],\n",
            "        [0.5841, 0.1689, 0.1253],\n",
            "        [0.4044, 1.0525, 0.4461],\n",
            "        [1.4160, 1.3850, 0.0371]])\n"
          ],
          "name": "stdout"
        }
      ]
    },
    {
      "cell_type": "code",
      "metadata": {
        "id": "IJy0kRWVFXQq",
        "colab_type": "code",
        "outputId": "11a0a619-cfd3-4037-f9ec-bd64add899a1",
        "colab": {
          "base_uri": "https://localhost:8080/",
          "height": 104
        }
      },
      "source": [
        "print(torch.add(x,y))"
      ],
      "execution_count": 0,
      "outputs": [
        {
          "output_type": "stream",
          "text": [
            "tensor([[0.7680, 0.4829, 1.3779],\n",
            "        [0.7299, 1.6297, 1.6304],\n",
            "        [1.4368, 1.3785, 1.4343],\n",
            "        [0.1407, 0.2274, 1.8740],\n",
            "        [0.2686, 1.6724, 0.0404]])\n"
          ],
          "name": "stdout"
        }
      ]
    },
    {
      "cell_type": "code",
      "metadata": {
        "id": "AS-DntueFhxe",
        "colab_type": "code",
        "colab": {
          "base_uri": "https://localhost:8080/",
          "height": 104
        },
        "outputId": "10487549-079e-4caa-b2eb-1ec12a3c73e1"
      },
      "source": [
        "result = torch.empty(5,3)\n",
        "torch.add(x,y,out=result)\n",
        "print(result)"
      ],
      "execution_count": 5,
      "outputs": [
        {
          "output_type": "stream",
          "text": [
            "tensor([[0.2033, 1.0890, 1.7674],\n",
            "        [0.0454, 1.9782, 1.4729],\n",
            "        [0.5841, 0.1689, 0.1253],\n",
            "        [0.4044, 1.0525, 0.4461],\n",
            "        [1.4160, 1.3850, 0.0371]])\n"
          ],
          "name": "stdout"
        }
      ]
    },
    {
      "cell_type": "code",
      "metadata": {
        "id": "fcI3FfT-PejT",
        "colab_type": "code",
        "colab": {
          "base_uri": "https://localhost:8080/",
          "height": 104
        },
        "outputId": "e2e9cb73-f8fe-4d90-8a4d-de48128230c8"
      },
      "source": [
        "y.add_(x)\n",
        "print(y)"
      ],
      "execution_count": 7,
      "outputs": [
        {
          "output_type": "stream",
          "text": [
            "tensor([[0.2033, 1.0890, 1.7674],\n",
            "        [0.0454, 1.9782, 1.4729],\n",
            "        [0.5841, 0.1689, 0.1253],\n",
            "        [0.4044, 1.0525, 0.4461],\n",
            "        [1.4160, 1.3850, 0.0371]])\n"
          ],
          "name": "stdout"
        }
      ]
    },
    {
      "cell_type": "code",
      "metadata": {
        "id": "jAwLtES4P6Jq",
        "colab_type": "code",
        "colab": {
          "base_uri": "https://localhost:8080/",
          "height": 34
        },
        "outputId": "809dc08d-9a5d-4d2f-d9d4-f355948fc290"
      },
      "source": [
        "print(y[:,1])"
      ],
      "execution_count": 9,
      "outputs": [
        {
          "output_type": "stream",
          "text": [
            "tensor([1.0890, 1.9782, 0.1689, 1.0525, 1.3850])\n"
          ],
          "name": "stdout"
        }
      ]
    },
    {
      "cell_type": "code",
      "metadata": {
        "id": "zuYw_uy3QNVN",
        "colab_type": "code",
        "colab": {
          "base_uri": "https://localhost:8080/",
          "height": 34
        },
        "outputId": "ce656411-a547-4340-e9ba-1489d51bfb54"
      },
      "source": [
        "print(y[1,1])"
      ],
      "execution_count": 10,
      "outputs": [
        {
          "output_type": "stream",
          "text": [
            "tensor(1.9782)\n"
          ],
          "name": "stdout"
        }
      ]
    },
    {
      "cell_type": "code",
      "metadata": {
        "id": "qNnpwl6hQcGe",
        "colab_type": "code",
        "colab": {
          "base_uri": "https://localhost:8080/",
          "height": 34
        },
        "outputId": "60b3aab4-495d-4408-9702-7c64b5cf1a11"
      },
      "source": [
        "print(y[:,0])"
      ],
      "execution_count": 11,
      "outputs": [
        {
          "output_type": "stream",
          "text": [
            "tensor([0.2033, 0.0454, 0.5841, 0.4044, 1.4160])\n"
          ],
          "name": "stdout"
        }
      ]
    },
    {
      "cell_type": "code",
      "metadata": {
        "id": "gecMAezqQf3e",
        "colab_type": "code",
        "colab": {
          "base_uri": "https://localhost:8080/",
          "height": 34
        },
        "outputId": "390c6a83-e322-46f0-d465-fafea5329d92"
      },
      "source": [
        "print(y[0,:])"
      ],
      "execution_count": 12,
      "outputs": [
        {
          "output_type": "stream",
          "text": [
            "tensor([0.2033, 1.0890, 1.7674])\n"
          ],
          "name": "stdout"
        }
      ]
    },
    {
      "cell_type": "code",
      "metadata": {
        "id": "ZZEphef5QixA",
        "colab_type": "code",
        "colab": {
          "base_uri": "https://localhost:8080/",
          "height": 315
        },
        "outputId": "7bdce6be-9f85-4c83-89c4-b34d88eb0ba1"
      },
      "source": [
        "x = torch.randn(4,4)\n",
        "y = x.view(16)\n",
        "z = x.view(-1,2)\n",
        "print(x)\n",
        "print('______________________________')\n",
        "print(y)\n",
        "print('______________________________')\n",
        "print(z)"
      ],
      "execution_count": 23,
      "outputs": [
        {
          "output_type": "stream",
          "text": [
            "tensor([[-0.2189, -0.2576, -0.1038, -1.4113],\n",
            "        [ 1.5965, -0.3566, -0.3301,  1.2188],\n",
            "        [-0.3548,  0.2809, -0.6365, -0.5077],\n",
            "        [-0.7210,  1.3403, -0.5838,  0.4997]])\n",
            "______________________________\n",
            "tensor([-0.2189, -0.2576, -0.1038, -1.4113,  1.5965, -0.3566, -0.3301,  1.2188,\n",
            "        -0.3548,  0.2809, -0.6365, -0.5077, -0.7210,  1.3403, -0.5838,  0.4997])\n",
            "______________________________\n",
            "tensor([[-0.2189, -0.2576],\n",
            "        [-0.1038, -1.4113],\n",
            "        [ 1.5965, -0.3566],\n",
            "        [-0.3301,  1.2188],\n",
            "        [-0.3548,  0.2809],\n",
            "        [-0.6365, -0.5077],\n",
            "        [-0.7210,  1.3403],\n",
            "        [-0.5838,  0.4997]])\n"
          ],
          "name": "stdout"
        }
      ]
    },
    {
      "cell_type": "code",
      "metadata": {
        "id": "JLeuChN-SRZW",
        "colab_type": "code",
        "colab": {
          "base_uri": "https://localhost:8080/",
          "height": 52
        },
        "outputId": "accfa86d-5715-4faf-ab05-2c64063a3c8c"
      },
      "source": [
        "x = torch.randn(1)\n",
        "print(x)\n",
        "print(x.item())"
      ],
      "execution_count": 24,
      "outputs": [
        {
          "output_type": "stream",
          "text": [
            "tensor([0.6623])\n",
            "0.662338018417\n"
          ],
          "name": "stdout"
        }
      ]
    },
    {
      "cell_type": "code",
      "metadata": {
        "id": "4NkYZyJjjNyK",
        "colab_type": "code",
        "colab": {}
      },
      "source": [
        "x = torch.rand(5,5)"
      ],
      "execution_count": 0,
      "outputs": []
    },
    {
      "cell_type": "code",
      "metadata": {
        "id": "aiC_bYWvjXDy",
        "colab_type": "code",
        "colab": {
          "base_uri": "https://localhost:8080/",
          "height": 34
        },
        "outputId": "a46c340f-bd4e-4fcd-f854-923937429160"
      },
      "source": [
        "print(x[2,2])"
      ],
      "execution_count": 30,
      "outputs": [
        {
          "output_type": "stream",
          "text": [
            "tensor(0.8294)\n"
          ],
          "name": "stdout"
        }
      ]
    },
    {
      "cell_type": "code",
      "metadata": {
        "id": "cor6hDaljaWr",
        "colab_type": "code",
        "colab": {
          "base_uri": "https://localhost:8080/",
          "height": 34
        },
        "outputId": "f4f54330-4f74-4609-c962-f92e02b07883"
      },
      "source": [
        "a = torch.ones(5)\n",
        "print(a)"
      ],
      "execution_count": 31,
      "outputs": [
        {
          "output_type": "stream",
          "text": [
            "tensor([1., 1., 1., 1., 1.])\n"
          ],
          "name": "stdout"
        }
      ]
    },
    {
      "cell_type": "code",
      "metadata": {
        "id": "LnxBttkNl8di",
        "colab_type": "code",
        "colab": {
          "base_uri": "https://localhost:8080/",
          "height": 34
        },
        "outputId": "db00d912-c790-49b2-ecc6-fb2e27fe5be1"
      },
      "source": [
        "b = a.numpy()\n",
        "print(b)"
      ],
      "execution_count": 32,
      "outputs": [
        {
          "output_type": "stream",
          "text": [
            "[1. 1. 1. 1. 1.]\n"
          ],
          "name": "stdout"
        }
      ]
    },
    {
      "cell_type": "code",
      "metadata": {
        "id": "c92wC7WfmGjI",
        "colab_type": "code",
        "colab": {
          "base_uri": "https://localhost:8080/",
          "height": 52
        },
        "outputId": "0ba72199-3a2c-49a3-f131-e9b7930ef18b"
      },
      "source": [
        "a.add_(1)\n",
        "print(a)\n",
        "print(b)"
      ],
      "execution_count": 33,
      "outputs": [
        {
          "output_type": "stream",
          "text": [
            "tensor([2., 2., 2., 2., 2.])\n",
            "[2. 2. 2. 2. 2.]\n"
          ],
          "name": "stdout"
        }
      ]
    },
    {
      "cell_type": "code",
      "metadata": {
        "id": "KmfH5qnfmMTj",
        "colab_type": "code",
        "colab": {
          "base_uri": "https://localhost:8080/",
          "height": 52
        },
        "outputId": "7b00c7df-555e-4370-8c34-b5f5fd77b685"
      },
      "source": [
        "a = np.ones(5)\n",
        "b = torch.from_numpy(a)\n",
        "np.add(a,1,out=a)\n",
        "print(a)\n",
        "print(b)"
      ],
      "execution_count": 35,
      "outputs": [
        {
          "output_type": "stream",
          "text": [
            "[2. 2. 2. 2. 2.]\n",
            "tensor([2., 2., 2., 2., 2.], dtype=torch.float64)\n"
          ],
          "name": "stdout"
        }
      ]
    },
    {
      "cell_type": "code",
      "metadata": {
        "id": "cGWEOXM8msv7",
        "colab_type": "code",
        "colab": {
          "base_uri": "https://localhost:8080/",
          "height": 191
        },
        "outputId": "ff5f9e9c-8116-4bab-adba-9354cd898980"
      },
      "source": [
        "if torch.cuda.is_available():\n",
        "  device = torch.device(\"cuda\")\n",
        "  y = torch.ones_like(x, device=device)\n",
        "  x = x.to(device)\n",
        "  z = x+y\n",
        "  print(z)\n",
        "  print(z.to(\"cpu\",torch.double))"
      ],
      "execution_count": 37,
      "outputs": [
        {
          "output_type": "stream",
          "text": [
            "tensor([[1.0817, 1.3105, 1.6061, 1.3522, 1.6026],\n",
            "        [1.7678, 1.4497, 1.8707, 1.8203, 1.0456],\n",
            "        [1.3056, 1.0148, 1.8294, 1.8881, 1.1563],\n",
            "        [1.4729, 1.3273, 1.5772, 1.9568, 1.4172],\n",
            "        [1.5642, 1.1046, 1.4708, 1.3402, 1.0347]], device='cuda:0')\n",
            "tensor([[1.0817, 1.3105, 1.6061, 1.3522, 1.6026],\n",
            "        [1.7678, 1.4497, 1.8707, 1.8203, 1.0456],\n",
            "        [1.3056, 1.0148, 1.8294, 1.8881, 1.1563],\n",
            "        [1.4729, 1.3273, 1.5772, 1.9568, 1.4172],\n",
            "        [1.5642, 1.1046, 1.4708, 1.3402, 1.0347]], dtype=torch.float64)\n"
          ],
          "name": "stdout"
        }
      ]
    },
    {
      "cell_type": "code",
      "metadata": {
        "id": "SqhVy67Xo_Is",
        "colab_type": "code",
        "colab": {
          "base_uri": "https://localhost:8080/",
          "height": 173
        },
        "outputId": "fc085e06-fb51-4aaf-89b1-0c1107218865"
      },
      "source": [
        "x3 = torch.tensor([[[1,2,3,4],[5,6,7,8],[9,10,11,12],[13,14,15,16]]])\n",
        "print('------------------------------')\n",
        "print(x3[0,0,0])\n",
        "print('------------------------------')\n",
        "print(x3[:,0,0])\n",
        "print('------------------------------')\n",
        "print(x3[0,:,0])\n",
        "print('------------------------------')\n",
        "print(x3[0,0,:])\n",
        "print('------------------------------')"
      ],
      "execution_count": 38,
      "outputs": [
        {
          "output_type": "stream",
          "text": [
            "------------------------------\n",
            "tensor(1)\n",
            "------------------------------\n",
            "tensor([1])\n",
            "------------------------------\n",
            "tensor([ 1,  5,  9, 13])\n",
            "------------------------------\n",
            "tensor([1, 2, 3, 4])\n",
            "------------------------------\n"
          ],
          "name": "stdout"
        }
      ]
    },
    {
      "cell_type": "code",
      "metadata": {
        "id": "Sh7CTryXzoEm",
        "colab_type": "code",
        "colab": {
          "base_uri": "https://localhost:8080/",
          "height": 34
        },
        "outputId": "2bd35e36-11d7-4c41-c1fb-8b57bb88c9fe"
      },
      "source": [
        "print([8,0,0])"
      ],
      "execution_count": 39,
      "outputs": [
        {
          "output_type": "stream",
          "text": [
            "[8, 0, 0]\n"
          ],
          "name": "stdout"
        }
      ]
    },
    {
      "cell_type": "code",
      "metadata": {
        "id": "wJN_1M9X0N4P",
        "colab_type": "code",
        "colab": {
          "base_uri": "https://localhost:8080/",
          "height": 34
        },
        "outputId": "a766fefa-0eb9-4da5-b9c6-2455d031c0f8"
      },
      "source": [
        "print(x3[0,1,0])"
      ],
      "execution_count": 47,
      "outputs": [
        {
          "output_type": "stream",
          "text": [
            "tensor(5)\n"
          ],
          "name": "stdout"
        }
      ]
    },
    {
      "cell_type": "code",
      "metadata": {
        "id": "5F15eYU-0R9q",
        "colab_type": "code",
        "colab": {
          "base_uri": "https://localhost:8080/",
          "height": 34
        },
        "outputId": "20f57923-1fbb-48ac-a08c-9825b5f99aac"
      },
      "source": [
        "print(x3[0,0,1])"
      ],
      "execution_count": 49,
      "outputs": [
        {
          "output_type": "stream",
          "text": [
            "tensor(2)\n"
          ],
          "name": "stdout"
        }
      ]
    },
    {
      "cell_type": "code",
      "metadata": {
        "id": "GLsDDbap0qQ6",
        "colab_type": "code",
        "colab": {
          "base_uri": "https://localhost:8080/",
          "height": 34
        },
        "outputId": "e83abb55-2df9-4595-bcf4-088d510cd8fc"
      },
      "source": [
        "print(x3[0,2,0])"
      ],
      "execution_count": 54,
      "outputs": [
        {
          "output_type": "stream",
          "text": [
            "tensor(9)\n"
          ],
          "name": "stdout"
        }
      ]
    },
    {
      "cell_type": "code",
      "metadata": {
        "id": "PaUMYqD21Y05",
        "colab_type": "code",
        "colab": {}
      },
      "source": [
        ""
      ],
      "execution_count": 0,
      "outputs": []
    }
  ]
}